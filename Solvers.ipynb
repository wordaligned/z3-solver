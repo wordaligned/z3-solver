{
 "cells": [
  {
   "cell_type": "markdown",
   "metadata": {},
   "source": [
    "# To solve a problem, define it\n",
    "\n",
    "As programmers we are used to solving problems by coding up solutions. We do the hard work of figuring out a strategy and coding it up.\n",
    "\n",
    "<img src=\"./application.jpg\" style=\"display:inline\"/>\n",
    "\n",
    "Some problems can be solved by describing them. The description gets input to a general purpose solver. The solver does its thing and provides the answer we're after.\n",
    "\n",
    "<img src=\"./solver.jpg\" style=\"display:inline\"/>\n",
    "\n",
    "## Introducing Z3\n",
    "\n",
    "The [Z3 solver](https://github.com/Z3Prover/z3/wiki) is a powerful [SMT solver](https://en.wikipedia.org/wiki/Satisfiability_modulo_theories). Source code is [available](https://github.com/Z3Prover/z3), as well as APIs for various languages -- including Python."
   ]
  },
  {
   "cell_type": "code",
   "execution_count": 1,
   "metadata": {},
   "outputs": [
    {
     "name": "stdout",
     "output_type": "stream",
     "text": [
      "Requirement already satisfied: z3-solver in d:\\anaconda\\envs\\aoc\\lib\\site-packages (4.8.9.0)\n"
     ]
    }
   ],
   "source": [
    "# First, install using pip.\n",
    "!pip install z3-solver"
   ]
  },
  {
   "cell_type": "code",
   "execution_count": 2,
   "metadata": {},
   "outputs": [],
   "source": [
    "# For convenience import Z3 into the global namespace\n",
    "from z3 import *"
   ]
  },
  {
   "cell_type": "markdown",
   "metadata": {},
   "source": [
    "## Example: Uniform Acceleration\n",
    "We can provide the formulae for uniform acceleration as rules for a solver instance.\n",
    "\n",
    "These rules describe the relationship between:\n",
    "- `u`, initial speed\n",
    "- `v`, final speed\n",
    "- `a`, acceleration\n",
    "- `t`, time\n",
    "- `s`, distance\n",
    "\n",
    "If we know any three of these, we can deduce the remaining pair.\n",
    "\n",
    "<img src=\"./uniform-accel.jpg\" style=\"display:inline\"/>"
   ]
  },
  {
   "cell_type": "code",
   "execution_count": 3,
   "metadata": {},
   "outputs": [
    {
     "name": "stdout",
     "output_type": "stream",
     "text": [
      "[s = 150, t = 10, v = 20, a = 1, u = 10]\n"
     ]
    }
   ],
   "source": [
    "u, v, s, a, t = Reals('u v s a t')\n",
    "\n",
    "rules = [\n",
    "    v == u + a * t,\n",
    "    s == u * t + a * t * t / 2\n",
    "]\n",
    "\n",
    "solve(u == 10, a == 1, v == 20, *rules)"
   ]
  },
  {
   "cell_type": "markdown",
   "metadata": {},
   "source": [
    "## Example: Cryptarithms\n",
    "\n",
    "<img src=\"./DudeneySendMoreMoney.png\" style=\"display: inline\" width=300px/>\n",
    "\n",
    "The famous `SEND + MORE = MONEY` _cryptarithm_ by the British puzzler [Henry Ernest Dudeney](https://en.wikipedia.org/wiki/Henry_Dudeney) was published in The Strand magazine in 1924. \n",
    "\n",
    "An impoverished artist writes to their generous benefactor, asking for money. For discretion the artist uses letters rather than numbers. Each letter represents a single digit.\n",
    "\n",
    "Exactly how much money is the artist asking for?\n",
    "Is there more than one solution? "
   ]
  },
  {
   "cell_type": "code",
   "execution_count": 4,
   "metadata": {},
   "outputs": [
    {
     "data": {
      "text/plain": [
       "10652"
      ]
     },
     "execution_count": 4,
     "metadata": {},
     "output_type": "execute_result"
    }
   ],
   "source": [
    "# Create the required digits \n",
    "S, E, N, D, M, O, R, Y = Ints('S E N D M O R Y')\n",
    "\n",
    "def in_range(lo, hi, *vars):\n",
    "    return [And(lo <= var, var < hi) for var in vars]\n",
    "\n",
    "s = Solver()\n",
    "# Add a constraint\n",
    "s.add(        1000*S + 100*E + 10*N + D + \n",
    "              1000*M + 100*O + 10*R + E == \n",
    "    10000*M + 1000*O + 100*N + 10*E + Y)\n",
    "s.add(Distinct(S, E, N, D, M, O, R, Y))\n",
    "s.add(in_range(0, 10, S, E, N, D, M, O, R, Y))\n",
    "s.add(in_range(1, 10, S, M))\n",
    "\n",
    "def amount(model, *digits):\n",
    "    v = 0\n",
    "    for digit in digits:\n",
    "        v = v * 10 + model[digit].as_long()\n",
    "    return v\n",
    "\n",
    "s.check()\n",
    "amount(s.model(), M, O, N, E, Y)"
   ]
  },
  {
   "cell_type": "markdown",
   "metadata": {},
   "source": [
    "## Example: Sudoku\n",
    "\n",
    "This is a classic way to demonstrate the power of solvers. The constraints are easy to express. There are two types of constraint:\n",
    "- the generic rules (each row/column/block is a permutation of 1, 2, ... 9)\n",
    "- the initial setup for this instance\n",
    "\n",
    "<img src=\"./sudoku.png\" style=\"display: inline\"/>"
   ]
  },
  {
   "cell_type": "code",
   "execution_count": 5,
   "metadata": {},
   "outputs": [
    {
     "data": {
      "text/plain": [
       "[(0, 0), (0, 1), (0, 2), (1, 0), (1, 1), (1, 2), (2, 0), (2, 1), (2, 2)]"
      ]
     },
     "execution_count": 5,
     "metadata": {},
     "output_type": "execute_result"
    }
   ],
   "source": [
    "from itertools import *\n",
    "sq3x3 = list(product(range(3), repeat=2))\n",
    "sq3x3"
   ]
  },
  {
   "cell_type": "code",
   "execution_count": 6,
   "metadata": {},
   "outputs": [
    {
     "name": "stdout",
     "output_type": "stream",
     "text": [
      "715|894|632\n",
      "234|516|897\n",
      "689|723|145\n",
      "---+---+---\n",
      "493|657|218\n",
      "867|231|954\n",
      "152|489|763\n",
      "---+---+---\n",
      "376|148|529\n",
      "928|365|471\n",
      "541|972|386\n",
      "\n"
     ]
    }
   ],
   "source": [
    "# The 9x9 board has: \n",
    "# - 81 cells\n",
    "# - 9 rows of 9 cells\n",
    "# - 9 columns of 9 cells\n",
    "# - and 3x3 blocks of 3x3 cells\n",
    "\n",
    "puzzle = '''\\\n",
    "   | 94| 3 \n",
    "   |51 |  7\n",
    " 89|   | 4 \n",
    "---+---+---\n",
    "   |   |2 8\n",
    " 6 |2 1| 5 \n",
    "1 2|   |   \n",
    "---+---+---\n",
    " 7 |   |52 \n",
    "9  | 65|   \n",
    " 4 |97 |   \n",
    "'''\n",
    "\n",
    "cells = [Int(str(s)) for s in range(81)]\n",
    "\n",
    "def display(model):\n",
    "    'Return a string representation of the Sudoku model'\n",
    "    vs = count()\n",
    "    return ''.join(\n",
    "        str(model[cells[next(vs)]]) if c in ' 123456789' else c\n",
    "        for c in puzzle)\n",
    "\n",
    "def cell(R, C, r, c):\n",
    "    'Return the cell at position (r,c) in block (R,C)'\n",
    "    return cells[9*(3*R+r) + 3*C + c]\n",
    "\n",
    "# Rows, columns, blocks have no repeats\n",
    "rows = [Distinct(cells[r:r+9]) for r in range(0, 81, 9)]\n",
    "cols = [Distinct(cells[c::9]) for c in range(9)]\n",
    "blocks = [Distinct([cell(*p, *d) for d in sq3x3]) for p in sq3x3]\n",
    "\n",
    "sudoku_rules = rows + cols + blocks\n",
    "\n",
    "s = Solver()\n",
    "s.add(sudoku_rules)\n",
    "s.add(in_range(1, 10, *cells))\n",
    "\n",
    "start_cells = (c for c in puzzle if c in ' 123456789')\n",
    "for i, c in enumerate(start_cells):\n",
    "    if c in '123456789':\n",
    "        s.add(cells[i]==int(c))\n",
    "s.add(cells[0] != 5)\n",
    "s.check()\n",
    "\n",
    "print(display(s.model()))"
   ]
  },
  {
   "cell_type": "markdown",
   "metadata": {},
   "source": [
    "## Example: Knapsack Problem\n",
    "\n",
    "This is a classic optimisation problem, more specifically a packing problem. \n",
    "\n",
    "We have some items to take in our knapsack. Each item has a `value` and a `weight`. The knapsack has a `capacity`, the maximum weight it can carry. Which items should we select to maximise value?"
   ]
  },
  {
   "cell_type": "code",
   "execution_count": 7,
   "metadata": {},
   "outputs": [
    {
     "data": {
      "text/plain": [
       "(sat,\n",
       " [item5 = False,\n",
       "  item7 = False,\n",
       "  item4 = False,\n",
       "  item0 = True,\n",
       "  item6 = True,\n",
       "  item2 = True,\n",
       "  item3 = True,\n",
       "  item1 = True],\n",
       " 862)"
      ]
     },
     "execution_count": 7,
     "metadata": {},
     "output_type": "execute_result"
    }
   ],
   "source": [
    "values = [360, 83, 59, 130, 431, 67, 230, 52]\n",
    "weights = [7, 0, 30, 22, 80, 94, 11, 81]\n",
    "capacity = 80\n",
    "\n",
    "# selections[n] True => we put the nth item in the knapsack\n",
    "selections = [Bool(f'item{n}') for n in range(len(values))]\n",
    "\n",
    "knapsack = Optimize()\n",
    "\n",
    "# Total weight does not exceed capacity\n",
    "knapsack.add(sum(s * w for s, w in zip(selections, weights)) <= capacity)\n",
    "\n",
    "# Maximise the total value\n",
    "objective = knapsack.maximize(sum(s * v for s, v in zip(selections, values)))\n",
    "\n",
    "knapsack.check(), knapsack.model(), objective.value()"
   ]
  },
  {
   "cell_type": "markdown",
   "metadata": {},
   "source": [
    "## Notes\n",
    "\n",
    "The knapsack problem is an important optimisation problem.\n",
    "\n",
    "It's not just about packing things. Many similar problems have the same solution.\n",
    "\n",
    "Examples:\n",
    "- A family is dining out on a budget. Everyone has their favourite starter, main, desert. What will they order?\n",
    "- The product manager has a delivery date and a list of features. Each feature has a cost (story points) and a value. We know the team velocity. What's the plan?\n",
    "\n",
    "![Menu choice](menu.jpg)\n",
    "\n",
    "For real life problems, there will be extra constraints. E.g. everyone gets a main course, or some choices are sold out. For the product, maybe we have to include the \"user registration\" feature, or features might be inter-dependent ...\n",
    "\n",
    "These constraints can be added without needing to modify the solver. In fact, they help the solver get an answer! Typically with real world problems the variables are not truly independent. Because of this a solution which is expensive to calculate, in theory, can be found in practice.\n",
    "\n",
    "Other problems well suited to solvers include dependency management, scheduling, routing ...\n",
    "\n",
    "Note also that a generic solver may not be the best route to an answer. In the case of the knapsack problem there are more specialised (and efficient) algorithms. It is possible to configure and extend generic solvers too, e.g. to favour particular strategies.\n",
    "\n",
    "If you're interested in how SMT solvers work, SAT solvers are a good starting point. SAT solvers determine if a set of expressions using boolean variables can be _satisfied_. [MiniSAT](http://minisat.se/) is a minimalistic production quality SAT solver developed for expositional purposes."
   ]
  }
 ],
 "metadata": {
  "kernelspec": {
   "display_name": "Python 3",
   "language": "python",
   "name": "python3"
  },
  "language_info": {
   "codemirror_mode": {
    "name": "ipython",
    "version": 3
   },
   "file_extension": ".py",
   "mimetype": "text/x-python",
   "name": "python",
   "nbconvert_exporter": "python",
   "pygments_lexer": "ipython3",
   "version": "3.8.5"
  }
 },
 "nbformat": 4,
 "nbformat_minor": 4
}
